{
 "cells": [
  {
   "cell_type": "code",
   "execution_count": 1,
   "id": "8dd19fff",
   "metadata": {},
   "outputs": [],
   "source": [
    "from bs4 import BeautifulSoup\n",
    "import json\n",
    "import re"
   ]
  },
  {
   "cell_type": "code",
   "execution_count": 59,
   "id": "77f8c583",
   "metadata": {},
   "outputs": [],
   "source": [
    "\n",
    "def get_graph_metadata(graph, url=\"https://pmc.ncbi.nlm.nih.gov/articles/PMC11351064/#\"):\n",
    "\n",
    "    \n",
    "\n",
    "    figure = graph.find_parent(\"figure\")\n",
    "    figure_flag = False\n",
    "\n",
    "    section = graph.find_parent(id=re.compile(r'^section\\d+-\\d+$'))\n",
    "    section_id = section.get(\"id\")\n",
    "    section_url = url + section_id\n",
    "\n",
    "    section_heading = section.find(\"h2\").get_text()\n",
    "    section_subheading = section.find(\"h3\").get_text()\n",
    "    headings = section_heading + \" > \" + section_subheading\n",
    "\n",
    "    attribution = \"\"\n",
    "\n",
    "    \n",
    "    if figure:\n",
    "\n",
    "        figure_flag = True\n",
    "\n",
    "        image_url = graph.get(\"src\")\n",
    "\n",
    "        name = figure.select_one(\".obj_head\").get_text()\n",
    "        all_p = [p.get_text() for p in figure.find_all(\"p\") if not p.attrs]\n",
    "        caption = all_p[0]\n",
    "        label = name + \" \" + caption\n",
    "\n",
    "        attribution = \"(\" + figure.select_one('[aria-label=\"Attribution\"]').get_text() + \")\"\n",
    "        number = \"_\".join(re.findall(r\"(.{1})\\.\", name)).lower()\n",
    "        referee_id = f\"figure_{number}\"\n",
    "        \n",
    "          \n",
    "    else:\n",
    "\n",
    "        image_url = graph.get(\"src\")\n",
    "\n",
    "        table_section = graph.find_parent(\"section\")\n",
    "\n",
    "        name = table_section.select_one(\".obj_head\").get_text()\n",
    "        caption = table_section.select_one(\".caption p\").get_text()\n",
    "        label = name + \" \" + caption\n",
    "\n",
    "        number = \"_\".join(re.findall(r\"(.{1})\\.\", name)).lower()\n",
    "        referee_id = f\"table_{number}\"\n",
    "    \n",
    "\n",
    "    return attribution, caption, figure_flag, headings, image_url, label, name, referee_id, section_url"
   ]
  },
  {
   "cell_type": "code",
   "execution_count": 26,
   "id": "fe49f0c8",
   "metadata": {},
   "outputs": [],
   "source": [
    "def to_chunk(text_block, section_url, referee_id, headings):\n",
    "\n",
    "    d = {\n",
    "    \"text\": text_block,\n",
    "    \"metadata\": {\n",
    "        \"section\": section_url,\n",
    "        \"type\": \"table image\",\n",
    "        \"referee_id\": referee_id,\n",
    "        \"headings\": headings,\n",
    "        }\n",
    "    }\n",
    "    return d"
   ]
  },
  {
   "cell_type": "code",
   "execution_count": 56,
   "id": "a7b1cc7c",
   "metadata": {},
   "outputs": [],
   "source": [
    "def main():\n",
    "\n",
    "    with open('../data/raw/source.html', encoding=\"utf-8\") as f:\n",
    "        html = f.read()\n",
    "        soup = BeautifulSoup(html)\n",
    "\n",
    "    with open(\"../data/processed/parsed_images.txt\",  encoding=\"utf-8\") as f:\n",
    "        text = f.read()\n",
    "        text_blocks = text.split(\"------\")\n",
    "\n",
    "    docs = []\n",
    "    for graph, text_block in zip(soup.select(\".graphic\"), text_blocks):\n",
    "        attribution, caption, figure_flag, headings, image_url, label, name, referee_id, section_url = get_graph_metadata(graph)\n",
    "        text_block = text_block.strip()\n",
    "     \n",
    "        if text_block.startswith(name):\n",
    "            chunk = to_chunk(text_block, section_url, referee_id, headings)\n",
    "            docs.append(chunk)\n",
    "    \n",
    "    with open(\"../data/processed/graphs.json\", \"w\", encoding=\"utf-8\") as f:\n",
    "        json.dump(docs, f, indent=4)\n",
    "\n",
    "    "
   ]
  },
  {
   "cell_type": "code",
   "execution_count": 57,
   "id": "7b0b61d8",
   "metadata": {},
   "outputs": [],
   "source": [
    "main()"
   ]
  },
  {
   "cell_type": "code",
   "execution_count": null,
   "id": "cde5e909",
   "metadata": {},
   "outputs": [],
   "source": []
  }
 ],
 "metadata": {
  "kernelspec": {
   "display_name": "base",
   "language": "python",
   "name": "python3"
  },
  "language_info": {
   "codemirror_mode": {
    "name": "ipython",
    "version": 3
   },
   "file_extension": ".py",
   "mimetype": "text/x-python",
   "name": "python",
   "nbconvert_exporter": "python",
   "pygments_lexer": "ipython3",
   "version": "3.11.4"
  }
 },
 "nbformat": 4,
 "nbformat_minor": 5
}
