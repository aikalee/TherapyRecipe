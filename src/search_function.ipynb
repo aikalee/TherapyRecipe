{
 "cells": [
  {
   "cell_type": "code",
   "execution_count": null,
   "id": "6c317040",
   "metadata": {},
   "outputs": [
    {
     "name": "stdout",
     "output_type": "stream",
     "text": [
      "\n",
      "    _|    _|  _|    _|    _|_|_|    _|_|_|  _|_|_|  _|      _|    _|_|_|      _|_|_|_|    _|_|      _|_|_|  _|_|_|_|\n",
      "    _|    _|  _|    _|  _|        _|          _|    _|_|    _|  _|            _|        _|    _|  _|        _|\n",
      "    _|_|_|_|  _|    _|  _|  _|_|  _|  _|_|    _|    _|  _|  _|  _|  _|_|      _|_|_|    _|_|_|_|  _|        _|_|_|\n",
      "    _|    _|  _|    _|  _|    _|  _|    _|    _|    _|    _|_|  _|    _|      _|        _|    _|  _|        _|\n",
      "    _|    _|    _|_|      _|_|_|    _|_|_|  _|_|_|  _|      _|    _|_|_|      _|        _|    _|    _|_|_|  _|_|_|_|\n",
      "\n",
      "    A token is already saved on your machine. Run `huggingface-cli whoami` to get more information or `huggingface-cli logout` if you want to log out.\n",
      "    Setting a new token will erase the existing one.\n",
      "    To log in, `huggingface_hub` requires a token generated from https://huggingface.co/settings/tokens .\n",
      "Enter your token (input will not be visible): ^C\n",
      "object address  : 0x1047c9fc0\n",
      "object refcount : 3\n",
      "object type     : 0x102978898\n",
      "object type name: KeyboardInterrupt\n",
      "object repr     : KeyboardInterrupt()\n",
      "lost sys.stderr\n"
     ]
    }
   ],
   "source": [
    "# run the following command in terminal to login\n",
    "# huggingface-cli login"
   ]
  },
  {
   "cell_type": "code",
   "execution_count": 27,
   "id": "8dce16ec",
   "metadata": {},
   "outputs": [],
   "source": [
    "import json\n",
    "import re\n",
    "from sentence_transformers import SentenceTransformer\n",
    "\n",
    "import numpy as np\n",
    "from sklearn.metrics.pairwise import cosine_similarity\n"
   ]
  },
  {
   "cell_type": "code",
   "execution_count": null,
   "id": "7f74d948",
   "metadata": {},
   "outputs": [],
   "source": [
    "\n",
    "embedder = SentenceTransformer(\"abhinand/MedEmbed-large-v0.1\")\n",
    "\n",
    "sentences = [\n",
    "    \"Patient shows symptoms of myocardial infarction.\",\n",
    "    \"Blood pressure is within normal range.\"\n",
    "]\n",
    "embeddings = embedder.encode(sentences)\n",
    "\n",
    "similarities = embedder.similarity(embeddings, embeddings)\n",
    "print(similarities.shape)"
   ]
  },
  {
   "cell_type": "code",
   "execution_count": null,
   "id": "b15293c3",
   "metadata": {},
   "outputs": [],
   "source": [
    "with open(\"../data/guideline_db.json\") as f:\n",
    "    db = json.load(f)\n",
    "\n",
    "vector_store = (\n",
    "    list()\n",
    ")\n",
    "\n",
    "# Step 1 - build vector store\n",
    "for chunk in db:\n",
    "    text = chunk[\"text\"]\n",
    "    embedding = embedder.encode(text)\n",
    "    vector_store.append({\"text\": text, \"embedding\": embedding, \"metadata\": chunk[\"metadata\"]})"
   ]
  },
  {
   "cell_type": "code",
   "execution_count": 22,
   "id": "a13d58b0",
   "metadata": {},
   "outputs": [],
   "source": [
    "import pickle\n",
    "with open('../data/guideline.emb', mode='rb') as f: #replace with your file\n",
    "  vector_store = pickle.load(f)"
   ]
  },
  {
   "cell_type": "code",
   "execution_count": null,
   "id": "8975db09",
   "metadata": {},
   "outputs": [
    {
     "name": "stdout",
     "output_type": "stream",
     "text": [
      "(1024,)\n"
     ]
    },
    {
     "data": {
      "text/plain": [
       "array([ 0.01260174, -0.02737539, -0.06699081, ..., -0.02317602,\n",
       "       -0.02495784,  0.0003223 ], dtype=float32)"
      ]
     },
     "execution_count": 23,
     "metadata": {},
     "output_type": "execute_result"
    }
   ],
   "source": [
    "# assuming this is your array\n",
    "arr = vector_store[0]['embedding']\n",
    "\n",
    "print(arr.shape)\n",
    "arr\n"
   ]
  },
  {
   "cell_type": "code",
   "execution_count": 30,
   "id": "df060ceb",
   "metadata": {},
   "outputs": [
    {
     "data": {
      "text/plain": [
       "{'text': \"Canadian Network for Mood and Anxiety Treatments (CANMAT) 2023 Update on Clinical Guidelines for Management of Major Depressive Disorder in Adults: Réseau canadien pour les traitements de l'humeur et de l'anxiété (CANMAT) 2023 : Mise à jour des lignes directrices cliniques pour la prise en charge du trouble dépressif majeur chez les adultes\",\n",
       " 'embedding': array([ 0.01260174, -0.02737539, -0.06699081, ..., -0.02317602,\n",
       "        -0.02495784,  0.0003223 ], dtype=float32),\n",
       " 'metadata': {'section': 'title',\n",
       "  'type': 'title',\n",
       "  'chunk_index': 1,\n",
       "  'headings': 'Title',\n",
       "  'referenced_tables': []}}"
      ]
     },
     "execution_count": 30,
     "metadata": {},
     "output_type": "execute_result"
    }
   ],
   "source": [
    "vector_store[0]"
   ]
  },
  {
   "cell_type": "code",
   "execution_count": 35,
   "id": "0849b1c8",
   "metadata": {},
   "outputs": [
    {
     "name": "stdout",
     "output_type": "stream",
     "text": [
      "Result 1:\n",
      "Text: From section: Question 7. What Should be Done When a Patient is not Better? > Q.7.g. What are the Risks and Benefits of Specific Adjunctive Medications? > Other Medications > paragraph id: 219\n",
      "Lithium and triiodothyronine were listed as second-line adjunctive agents in the CANMAT (Canadian Network for Mood and Anxiety Treatments) 2016 guidelines. Both medications were included in a network meta-analysis evaluating all adjunctive options. While both lithium and triiodothyronine had evidence for efficacy, the included RCTs predated 2003, had small sample sizes and involved adjunctive use with TCAs only. Lithium also requires serum level monitoring and triiodothyronine requires monitoring of thyroid levels. Hence, lithium and triiodothyronine continue to be second-line recommendations.\n",
      "\n",
      "Result 2:\n",
      "Text: From section: Question 7. What Should be Done When a Patient is not Better? > Q.7.g. What are the Risks and Benefits of Specific Adjunctive Medications? > Glutamate Modulators > paragraph id: 216\n",
      "Lamotrigine is another glutamate modulator more frequently used for bipolar depression. A meta-analysis in unipolar TRD (Treatment-resistant depression) found higher response rates with adjunctive lamotrigine compared with antidepressant monotherapy, although the trials were of low-quality (Level 2) . Adjunctive lamotrigine was well tolerated in these studies, but prescribers must be aware of the risk of Stevens–Johnson Syndrome, a severe and potentially fatal allergic skin reaction, and the need to initiate treatment at low doses and titrate up gradually. Given these issues, lamotrigine is recommended as a third-line adjunctive agent.\n",
      "\n",
      "Result 3:\n",
      "Text: From section: Question 7. What Should be Done When a Patient is not Better? > Q.7.g. What are the Risks and Benefits of Specific Adjunctive Medications? > Serotonin-Dopamine Activity Modulators (Low-Dose Atypical Antipsychotics) > paragraph id: 209\n",
      "Adjunctive treatment with serotonin-dopamine activity modulators (also known as atypical antipsychotic agents) has the most consistent evidence for efficacy in DTD (Difficult-to-treat depression) ( Table 7.2 ). Typically, lower doses of these medications are used for adjunctive treatment in MDD (Major depressive disorder) compared to other conditions such as bipolar disorder or schizophrenia. Most of the listed medications have evidence for efficacy, with network meta-analyses showing that they are more efficacious than placebo (Level 1) . Aripiprazole and brexpiprazole are listed as first-line agents because of their efficacy and tolerability profile. Cariprazine is recommended as the second-line because there are fewer studies compared to the other agents. Ziprasidone is included as a third-line recommendation because of mixed efficacy results in RCTs and network meta-analyses.\n",
      "\n",
      "Result 4:\n",
      "Text: From section: Question 7. What Should be Done When a Patient is not Better? > Q.7.g. What are the Risks and Benefits of Specific Adjunctive Medications? > Serotonin-Dopamine Activity Modulators (Low-Dose Atypical Antipsychotics) > paragraph id: 210\n",
      "Serotonin-dopamine modulating agents have very different receptor and side effect profiles. Common side effects with aripiprazole and brexpiprazole include akathisia and weight gain. Some agents with Level 1 evidence for efficacy are recommended as second-line treatments because of the increased risk of certain side effects, including olanzapine (weight gain and metabolic side effects), quetiapine-XR (sedation and metabolic side effects), and risperidone (hyperprolactinemia, sexual side effects, and extrapyramidal symptoms).\n",
      "\n",
      "Result 5:\n",
      "Text: From section: Question 7. What Should be Done When a Patient is not Better? > Q.7.d. When and how Should Antidepressants be Switched? > paragraph id: 203\n",
      "When switching, selecting a second antidepressant should consider factors such as side effect profiles, mechanism of action, and comparative efficacy (see Q.3.d). Several studies have shown that there is no difference in outcome between switching within a medication class and switching to a different class. Hence, when switching to another antidepressant, CANMAT (Canadian Network for Mood and Anxiety Treatments) recommends first selecting a first-line antidepressant with evidence for superior efficacy and a favourable tolerability profile (Level 4) ( Table 3.5 ). Of note is that TCA (Tricyclic antidepressants) and MAOI (Monoamine oxidase inhibitor) agents may be useful in the treatment algorithm if there has been a poor response to first and/or second-line antidepressants ( Box 7.1 ).\n",
      "\n",
      "Result 6:\n",
      "Text: From section: Question 7. What Should be Done When a Patient is not Better? > Q.7.g. What are the Risks and Benefits of Specific Adjunctive Medications? > Other Medications > paragraph id: 220\n",
      "Adjunctive use of pramipexole, a dopamine agonist, was shown to have both acute and longer-term antidepressant effects in a meta-analysis of MDD (Major depressive disorder) and bipolar depression. In small-sample RCTs, patients treated with pramipexole had a superior response rate compared with placebo and a similar response to SSRIs (Level 3) . Acceptability and tolerability were good, with nausea being the most frequent side effect. As such, pramipexole has been added as a third-line adjunctive recommendation.\n",
      "\n",
      "Result 7:\n",
      "Text: From section: Question 3. How are Treatments Selected? > Q.3.a. How is the Initial Treatment Selected? > paragraph id: 78\n",
      "In severe cases of MDE (Major depressive episode) with high safety risk and without psychotic features, CANMAT (Canadian Network for Mood and Anxiety Treatments) recommends the combination of antidepressant medication and psychotherapy, either started at the same time or in a staggered fashion as planned sequential treatment (Level 2) (see Q.3.b). For severe MDE (Major depressive episode) with psychotic symptoms, the combination of an antidepressant and an atypical antipsychotic (serotonin-dopamine activity modulator) is recommended; structured psychotherapy should not be considered until psychotic symptoms subside (Level 1) . In the most severe MDEs and/or in life-threatening situations (e.g., severe suicide risk and physical deterioration), electroconvulsive therapy (ECT (Electroconvulsive therapy)) should be considered as the first-choice option (Level 3) .\n",
      "\n"
     ]
    }
   ],
   "source": [
    "\n",
    "def search(embedder, query, vector_store, k, min_similarity):\n",
    "    query_embedding = embedder.encode(query.lower())\n",
    "    # make magic happen here\n",
    "    similarities = []\n",
    "    results = []\n",
    "    # calculate cosine similarity between each text and the query\n",
    "    for i, chunk in enumerate(vector_store):\n",
    "        similarity = cosine_similarity([query_embedding], [chunk[\"embedding\"]])\n",
    "        if similarity[0][0] >= min_similarity:\n",
    "            similarities.append((i, similarity[0][0]))\n",
    "\n",
    "    # sort the similarities based on similarity and select the top k\n",
    "    similarities.sort(key=lambda x: x[1], reverse=True)\n",
    "    for i, similarity in similarities[:k]:\n",
    "            results.append(vector_store[i]['text'])\n",
    "            \n",
    "    \n",
    "    # if not results:\n",
    "    #     return \"No matching documents!\"\n",
    "    # print(results)\n",
    "    if not results or not results[0]:\n",
    "        return [\"No matching documents!\"]\n",
    "    return results\n",
    "\n",
    "\n",
    "# Test your search function!\n",
    "query = \"I have a patient who can’t take lithium but is currently acutely manic. Which medication should I try next?\"\n",
    "results = search(embedder,query, vector_store, 7, 0.1)\n",
    "\n",
    "# write results to a file\n",
    "with open(\"../results.json\", \"w\") as f:\n",
    "    json.dump(results, f, indent=4)\n",
    "    \n",
    "# print results\n",
    "for i, result in enumerate(results):\n",
    "    print(f\"Result {i+1}:\")\n",
    "    print(f\"Text: {result}\")\n",
    "    # print(f\"Metadata: {result['metadata']}\")\n",
    "    print()"
   ]
  },
  {
   "cell_type": "code",
   "execution_count": null,
   "id": "5881a436",
   "metadata": {},
   "outputs": [],
   "source": []
  }
 ],
 "metadata": {
  "kernelspec": {
   "display_name": "cl",
   "language": "python",
   "name": "python3"
  },
  "language_info": {
   "codemirror_mode": {
    "name": "ipython",
    "version": 3
   },
   "file_extension": ".py",
   "mimetype": "text/x-python",
   "name": "python",
   "nbconvert_exporter": "python",
   "pygments_lexer": "ipython3",
   "version": "3.12.9"
  }
 },
 "nbformat": 4,
 "nbformat_minor": 5
}
